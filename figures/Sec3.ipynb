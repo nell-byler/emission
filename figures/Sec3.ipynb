{
 "cells": [
  {
   "cell_type": "code",
   "execution_count": 1,
   "metadata": {
    "collapsed": true
   },
   "outputs": [],
   "source": [
    "import fsps\n",
    "import matplotlib.pyplot as plt\n",
    "import numpy as np\n",
    "from cloudyfsps import outObj as ob\n",
    "from cloudyfsps.outObj import getColors, nColors\n",
    "from cloudyfsps.generalTools import calcQ\n",
    "import matplotlib as mpl\n",
    "mpl.rc('xtick', labelsize=12)\n",
    "mpl.rc('ytick', labelsize=12)\n",
    "mpl.rc('font', size=16, family='serif', serif=[r'cmr10'], style='normal', variant='normal', stretch='normal', weight='heavy')\n",
    "mpl.rc('legend', labelspacing=0.1, handlelength=2, fontsize=16)\n",
    "mpl.rcParams['axes.unicode_minus'] = False\n",
    "%matplotlib inline"
   ]
  },
  {
   "cell_type": "code",
   "execution_count": null,
   "metadata": {
    "collapsed": true
   },
   "outputs": [],
   "source": [
    "def masspile(tage=0.001, z=0.0, cname='inferno', alpha=0.75, plt_cum=False, do_title=None,\n",
    "             colors=None, xlabel=None, ylabel=None,\n",
    "             masscut=120, masslims=[1., 2.0, 15.0, 120.0], ax=None, fontsize=16, **kwargs):\n",
    "    sps.params['masscut'] = masscut\n",
    "    sps.params['logzsol'] = z\n",
    "    # Try to set any extra params\n",
    "    for k, v in kwargs.items():\n",
    "        try:\n",
    "            sps.params[k] = v\n",
    "        except(KeyError):\n",
    "            pass\n",
    "    # Make a pretty string with the FSPS parameters\n",
    "    if do_title is None:\n",
    "        titlestr = r'{0:.0f} Myr, log Z/Z$_{{\\odot}}$ = {1:.1f}'.format(tage*1.e9/1.e6, z)\n",
    "    else:\n",
    "        titlestr = do_title\n",
    "    # colors\n",
    "    if colors is None:\n",
    "        colors = sns.color_palette(cname, len(masslims))\n",
    "    # get the total spectrum due to *all* stars\n",
    "    wave, spec_tot = sps.get_spectrum(tage=tage, peraa=True)\n",
    "\n",
    "    # Set up stellar mass ranges and arrays to hold output spectra\n",
    "    mspec = np.zeros([len(sps.wavelengths), len(masslims)])\n",
    "    dmspec = np.zeros_like(mspec)\n",
    "    # set up figure and axis objects\n",
    "    if ax is None:\n",
    "        nfig, nax = plt.subplots(figsize=(8, 6))\n",
    "    else:\n",
    "        nax = ax\n",
    "        nfig = plt.gcf()\n",
    "    xlim = kwargs.get('xlim', (0.1e3, 2e5))\n",
    "    nax.set_xlim(xlim)\n",
    "    for i, mc in enumerate(masslims):\n",
    "        # set the upper stellar mass limit\n",
    "        sps.params['masscut'] = mc\n",
    "        # get the spectrum at age = tage and store it\n",
    "        w, spec = sps.get_spectrum(tage=tage, peraa=True)\n",
    "        mspec[:, i] = spec.copy()\n",
    "        if i == 0:\n",
    "            continue\n",
    "        dmspec[:, i] = spec - mspec[:, i-1]\n",
    "    # this makes the plot limits work out for the fill between\n",
    "    nax.loglog(w, spec_tot, lw=0.8, label='__None__', color='black', alpha=0.0)\n",
    "    #for ind, color in zip(range(1, len(masslims))[::-1], colors):\n",
    "    for ind, color in zip(range(0, len(masslims))[::-1], colors):\n",
    "        if ind == 0:\n",
    "            lab = r'$\\mathrm{{M}}<{0:.0f}\\mathrm{{M}}_{{\\odot}}$'.format(masslims[ind])\n",
    "            nax.fill_between(w, 0.0, mspec[:,ind], color=color, label=lab)\n",
    "            continue\n",
    "        else:\n",
    "            lab = r'${0:.0f} < \\mathrm{{M}} < {1:.0f}$'.format(masslims[ind-1], masslims[ind])\n",
    "            #nax.fill_between(w, mspec[:,ind-1], mspec[:,ind-1]+dmspec[:,ind], color=color, label=lab)\n",
    "            #both work, this is just cleaner\n",
    "            nax.fill_between(w, mspec[:,ind-1], mspec[:,ind], color=color, label=lab)\n",
    "    pl_legend = kwargs.get('pl_legend', True)\n",
    "    if pl_legend:\n",
    "        frameon=kwargs.get('frameon', False)\n",
    "        markerfirst=kwargs.get('markerfirst', False)\n",
    "        naxloc = kwargs.get('naxloc', 2)\n",
    "        nax.legend(loc=naxloc, fontsize=fontsize, frameon=frameon, markerfirst=markerfirst)\n",
    "    if xlabel is None:\n",
    "        xlabel=r'Wavelength [$\\,\\mathrm{\\AA}\\,$]'\n",
    "    if ylabel is None:\n",
    "        ylabel=r'$\\mathcal{F}_{\\lambda}\\ (\\,\\mathrm{L}_{\\odot}/\\mathrm{\\AA}\\,)$'\n",
    "    nax.set_xlabel(xlabel, size=16)\n",
    "    nax.set_ylabel(ylabel, size=16)\n",
    "    ylim = kwargs.get('ylim', (1e-17, 1e-12))\n",
    "    nax.set_ylim(ylim)\n",
    "    nax.set_title(titlestr)\n",
    "    return nax, mspec, dmspec"
   ]
  },
  {
   "cell_type": "code",
   "execution_count": null,
   "metadata": {
    "collapsed": true
   },
   "outputs": [],
   "source": [
    "sps = fsps.StellarPopulation(zcontinuous=1)\n",
    "sps.params['imf_type'] = 2   # Kroupa IMF\n",
    "sps.params['sfh'] = 0  # burst"
   ]
  },
  {
   "cell_type": "markdown",
   "metadata": {},
   "source": [
    "# Figure 1"
   ]
  },
  {
   "cell_type": "code",
   "execution_count": null,
   "metadata": {
    "collapsed": true
   },
   "outputs": [],
   "source": [
    "z=0.0\n",
    "tages = [1.e-3, 2.e-3, 3.e-3, 5.e-3, 10.e-3, 20.e-3]\n",
    "masslims = [5., 10., 25., 35., 75., 120.]\n",
    "colors = nColors(len(masslims), maxv=0.8)\n",
    "fig, axes = plt.subplots(len(tages)/2, 2, figsize=(8, 5.), sharex=True, sharey=True)\n",
    "\n",
    "for i, (tage, ax) in enumerate(zip(tages, fig.axes)):\n",
    "    pl_leg=False\n",
    "    xlabel=' '\n",
    "    ylabel=' '\n",
    "    if i == 1:\n",
    "        ax.text(950., 1.e-4, r'I$_{\\mathrm{H}}$', fontsize=16)\n",
    "        ax.text(550., 1.e-4, r'I$_{\\mathrm{He}}$', fontsize=16)\n",
    "    if i == 5:\n",
    "        pl_leg=True\n",
    "    if i >= (len(tages)-2):\n",
    "        xlabel=None\n",
    "    if i%2 == 0:\n",
    "        ylabel=None\n",
    "    if tage != tages[-1]:\n",
    "    #ax.axvspan(100., 911.6, color='black', alpha=0.1)\n",
    "        ax.axvline(911.6, color='black', linestyle='dashed', lw=1)\n",
    "        ax.axvline(504.6, color='black', linestyle='dashed', lw=1)\n",
    "    nf, ms, ds = masspile(tage=tage, z=z, masslims=masslims, cname='CMRmap', alpha=0.95,\n",
    "                          pl_legend=pl_leg, fontsize=14, markerfirst=True,\n",
    "                          xlabel=xlabel, ylabel=ylabel,\n",
    "                          ax=ax, do_title='', plt_cum=True, colors=colors,\n",
    "                          xlim=(250., 10050.), ylim=(5.e-5, 7.))\n",
    "    ax.annotate(r'${0:.0f}$ Myr'.format(tage*1.e9/1.e6),\n",
    "                xy=(0.98, 0.98),xycoords='axes fraction', size=22, ha='right', va='top')\n",
    "fig.subplots_adjust(hspace=0, wspace=0.0)\n",
    "plt.setp([a.get_xticklabels() for a in fig.axes[0:-2]], visible=False)\n",
    "plt.setp([a.get_yticklabels() for a in fig.axes[1::2]], visible=False)\n",
    "fig.subplots_adjust(left=0.1, right=0.98, top=0.98, bottom=0.12)\n",
    "fig.savefig('./f1.pdf', dpi=300)"
   ]
  },
  {
   "cell_type": "markdown",
   "metadata": {},
   "source": [
    "# Figure 2"
   ]
  },
  {
   "cell_type": "code",
   "execution_count": 2,
   "metadata": {
    "collapsed": true
   },
   "outputs": [],
   "source": [
    "fsp = fsps.StellarPopulation(zcontinuous=1)\n",
    "ages = fsp.ssp_ages\n",
    "wavelengths = fsp.wavelengths\n",
    "lsun = 3.839e33"
   ]
  },
  {
   "cell_type": "code",
   "execution_count": null,
   "metadata": {
    "collapsed": true
   },
   "outputs": [],
   "source": [
    "mpl.rc('legend', labelspacing=0.1, handlelength=2, fontsize=16)"
   ]
  },
  {
   "cell_type": "code",
   "execution_count": null,
   "metadata": {
    "collapsed": true
   },
   "outputs": [],
   "source": [
    "fig, ax = plt.subplots(1, figsize=(6.25,5))\n",
    "Zs = np.array([-2.0, -1.5, -1.0, -0.5, 0.0, 0.2])\n",
    "sM = getColors(np.linspace(-2.0, 0.2), maxv=0.6)\n",
    "savz = []\n",
    "savz.append(ages)\n",
    "for z in Zs:\n",
    "    fsp.params['logzsol'] = z\n",
    "    wav, nuspecs = fsp.get_spectrum(peraa=False)\n",
    "    wav, specs = fsp.get_spectrum(peraa=True)\n",
    "    Qs = np.array([np.log10(calcQ(wav, s*lsun, f_nu=True)) for s in nuspecs])\n",
    "    ax.plot(ages, Qs, color=sM.to_rgba(z), lw=2, label=r'{0: .1f}'.format(z))\n",
    "    a = plt.axes([.21, .23, .33, .33])\n",
    "    a.plot(10.**ages/1.e6, 10.**Qs/1.e46, color=sM.to_rgba(z), lw=2)\n",
    "    a.set_xlim(0.3, 6.5)\n",
    "    a.set_xlabel(r'Age [ Myr ]', size=14)\n",
    "    a.set_ylim(0.1, 8.)\n",
    "    a.set_ylabel(r'$\\hat{Q}_{\\mathrm{H}} \\cdot 10^{-46}$', size=14)\n",
    "    a.set_yticks([2.,4.,6.])\n",
    "    savz.append(Qs)\n",
    "\n",
    "ax.set_ylabel(r'$\\log$ $\\hat{Q}_{\\mathrm{H}}$ [ s$^{-1}$ $\\mathrm{M}_{\\odot}^{-1}$]', size=16)\n",
    "ax.set_xlabel(r'log Age [ years ]', size=16)\n",
    "ax.set_xlim(5.9, 8.1)\n",
    "ax.set_ylim(40.8, 47.2)\n",
    "\n",
    "ax2 = ax.twiny()\n",
    "ax2.set_xlabel(r'Age [ Myr ]', size=14)\n",
    "desired_tick_locations = np.array([1, 3, 5, 10, 100])\n",
    "def tick_function(X):\n",
    "    V = np.log10(X * 1.e6)\n",
    "    return V\n",
    "tick_locations = tick_function(desired_tick_locations)\n",
    "def tick_labels(V):\n",
    "    return [r\"${0:.0f}$\".format(z) for z in V]\n",
    "ax2.set_xlim(ax.get_xlim())\n",
    "ax2.set_xticks(tick_locations)\n",
    "ax2.set_xticklabels(tick_labels(desired_tick_locations))\n",
    "\n",
    "leg = ax.legend(loc=1, title=r'log Z/Z$_{\\odot}$', fontsize=16, frameon=False)\n",
    "plt.setp(leg.get_title(), fontsize=16)\n",
    "fig.subplots_adjust(left=0.12, bottom=0.12, top=0.90, right=0.98)\n",
    "fig.savefig('./f2.pdf', dpi=300)"
   ]
  },
  {
   "cell_type": "code",
   "execution_count": null,
   "metadata": {
    "collapsed": true
   },
   "outputs": [],
   "source": [
    "output = np.column_stack([savz])\n",
    "head = \"age \"+\" \".join([\"{0:.2f}\".format(z) for z in Zs])\n",
    "print head\n",
    "np.savetxt('./finalFigs/gnva_Q.txt', output, header=head)"
   ]
  },
  {
   "cell_type": "markdown",
   "metadata": {},
   "source": [
    "# Figure 3"
   ]
  },
  {
   "cell_type": "code",
   "execution_count": null,
   "metadata": {
    "collapsed": true
   },
   "outputs": [],
   "source": [
    "def calc_slope(flu_arr, lam1, lam2):\n",
    "    inds = [find_nearest(fsp.wavelengths, wav) for wav in [lam1, lam2]]\n",
    "    flus = [flu_avg(flu_arr, ind) for ind in inds]\n",
    "    slope = np.log10(flus[0]/flus[1])/np.log10(lam1/lam2)\n",
    "    return slope\n",
    "\n",
    "def find_nearest(array, value):\n",
    "    idx = (np.abs(array-value)).argmin()\n",
    "    return idx\n",
    "\n",
    "def flu_avg(farr, i, buff=1):\n",
    "    return np.median([farr[i-buff], farr[i], farr[i+buff]])"
   ]
  },
  {
   "cell_type": "code",
   "execution_count": null,
   "metadata": {
    "collapsed": true
   },
   "outputs": [],
   "source": [
    "fig, ax = plt.subplots(1, figsize=(6.25,5))\n",
    "Zs = np.array([-2.0, -1.5, -1.0, -0.5, 0.0, 0.2])\n",
    "sM = getColors(np.linspace(-2.0, 0.2), maxv=0.6)\n",
    "savz = []\n",
    "savz.append(ages)\n",
    "for z in Zs:\n",
    "    fsp.params['logzsol'] = z\n",
    "    wav, specs = fsp.get_spectrum(peraa=True)\n",
    "    wavs = [505., 912.]\n",
    "    slopes = [calc_slope(s, wavs[0], wavs[1]) for s in specs]\n",
    "    ax.plot(ages, slopes, color=sM.to_rgba(z), lw=2, label=r'{0: .1f}'.format(z))\n",
    "    savz.append(slopes)\n",
    "    \n",
    "ax.axvspan(6.57,6.73, color='black', alpha=0.2)\n",
    "ax.annotate(r'WR', xy=(0.3,0.9), xycoords='axes fraction', size=18, color='black')\n",
    "\n",
    "ax.set_xlim(5.9, 8.1)\n",
    "ax.set_ylim(-3, 21)\n",
    "leg=ax.legend(loc=4, title=r'log Z/Z$_{\\odot}$', fontsize=16, frameon=False)\n",
    "plt.setp(leg.get_title(), fontsize=16)\n",
    "\n",
    "ax2 = ax.twiny()\n",
    "ax2.set_xlabel(r'Age [ Myr ]', size=14)\n",
    "desired_tick_locations = np.array([1, 3, 5, 10, 100])\n",
    "def tick_function(X):\n",
    "    V = np.log10(X * 1.e6)\n",
    "    return V\n",
    "tick_locations = tick_function(desired_tick_locations)\n",
    "def tick_labels(V):\n",
    "    return [r\"${0:.0f}$\".format(z) for z in V]\n",
    "ax2.set_xlim(ax.get_xlim())\n",
    "ax2.set_xticks(tick_locations)\n",
    "ax2.set_xticklabels(tick_labels(desired_tick_locations))\n",
    "\n",
    "ax.set_ylabel(r'EUV slope [I$_{\\mathrm{He}}$, I$_{\\mathrm{H}}$]', size=16)\n",
    "ax.set_xlabel(r'log Age [ years ]', size=16)\n",
    "fig.subplots_adjust(left=0.12, bottom=0.12, top=0.90, right=0.98)\n",
    "fig.savefig('./f3.pdf', dpi=300)"
   ]
  },
  {
   "cell_type": "code",
   "execution_count": null,
   "metadata": {
    "collapsed": true
   },
   "outputs": [],
   "source": [
    "output = np.column_stack([savz])\n",
    "head = \"age \"+\" \".join([\"{0:.2f}\".format(z) for z in Zs])\n",
    "print head\n",
    "np.savetxt('./finalFigs/gnva_EUV.txt', output, header=head)"
   ]
  },
  {
   "cell_type": "markdown",
   "metadata": {},
   "source": [
    "# Figure 4"
   ]
  },
  {
   "cell_type": "code",
   "execution_count": null,
   "metadata": {
    "collapsed": true
   },
   "outputs": [],
   "source": [
    "spdict = dict(add_neb_emission=False, logzsol=0.0, gas_logz=0.0, gas_logu=-2.0)\n",
    "fsp = fsps.StellarPopulation(zcontinuous=1, sfh=0, const=0.0, **spdict)\n",
    "csp = fsps.StellarPopulation(zcontinuous=1, sfh=1, const=1.0)"
   ]
  },
  {
   "cell_type": "code",
   "execution_count": null,
   "metadata": {
    "collapsed": true
   },
   "outputs": [],
   "source": [
    "Qs = []\n",
    "cQs = []\n",
    "lsun = 3.839e33\n",
    "for s,c in zip(specs,cspecs):\n",
    "    Q = calcQ(wav, s*lsun, f_nu=True)\n",
    "    Qs.append(np.log10(Q))\n",
    "    cQ = calcQ(wav, c*lsun, f_nu=True)\n",
    "    cQs.append(np.log10(cQ))\n",
    "ages = fsp.ssp_ages\n",
    "wavelengths = fsp.wavelengths"
   ]
  },
  {
   "cell_type": "code",
   "execution_count": null,
   "metadata": {
    "collapsed": true
   },
   "outputs": [],
   "source": [
    "fig, axes = plt.subplots(2, figsize=(6.25,8))\n",
    "Zs = np.array([-2.0, -1.5, -1.0, -0.5, 0.0, 0.2])\n",
    "sM = getColors(np.linspace(-2.0, 0.2), maxv=1.0, minv=0.4, cname='Blues')\n",
    "sMc = getColors(np.linspace(-2.0, 0.2), maxv=1.0, minv=0.4, cname='Greens')\n",
    "savz = []\n",
    "savz.append(ages)\n",
    "ax = fig.axes[0]\n",
    "\n",
    "for z in Zs:\n",
    "    if z == Zs[3]:\n",
    "        lab = r'Burst'\n",
    "    else:\n",
    "        lab = '__nolegend__'\n",
    "    fsp.params['logzsol'] = z\n",
    "    wav, specs = fsp.get_spectrum(peraa=True)\n",
    "    Qs = np.array([np.log10(calcQ(wav, s*lsun, f_nu=False)) for s in specs])\n",
    "    ax.plot(ages, Qs, color=sM.to_rgba(z), lw=2, label=lab)\n",
    "    if z == Zs[3]:\n",
    "        lab = r'CSFR'\n",
    "    else:\n",
    "        lab = '__nolegend__'\n",
    "    csp.params['logzsol'] = z\n",
    "    mnorm = np.array([simps(csp.sfr[0:i+1], x=10.**csp.ssp_ages[0:i+1]) for i in range(len(csp.ssp_ages))])\n",
    "    wav, specs = csp.get_spectrum(peraa=True)\n",
    "    Qs = np.array([np.log10(calcQ(wav, s*lsun/m, f_nu=False)) for s,m in zip(specs, mnorm)])\n",
    "    ax.plot(ages, Qs, color=sMc.to_rgba(z), lw=2, label=lab)\n",
    "    \n",
    "ax.legend(loc=0, fontsize=18, frameon=False)\n",
    "ax.set_ylabel(r'$\\log$ $\\hat{Q}_{\\mathrm{H}}$ [ s$^{-1}$ $\\mathrm{M}_{\\odot}^{-1}$]', size=16)\n",
    "ax.set_xlabel(r'log Age [ years ]', size=16)\n",
    "ax.set_xlim(5.9, 7.1)\n",
    "ax.set_ylim(43.8, 47.2)\n",
    "ax.set_yticks([44.0, 45.0, 46.0, 47.0])\n",
    "\n",
    "ax2 = ax.twiny()\n",
    "ax2.set_xlabel(r'Age [ Myr ]', size=14)\n",
    "desired_tick_locations = np.array([1, 3, 5, 10])\n",
    "def tick_function(X):\n",
    "    V = np.log10(X * 1.e6)\n",
    "    return V\n",
    "tick_locations = tick_function(desired_tick_locations)\n",
    "def tick_labels(V):\n",
    "    return [r\"${0:.0f}$\".format(z) for z in V]\n",
    "\n",
    "ax2.set_xlim(ax.get_xlim())\n",
    "ax2.set_xticks(tick_locations)\n",
    "ax2.set_xticklabels(tick_labels(desired_tick_locations))\n",
    "\n",
    "plt.setp(fig.axes[0].get_xticklabels(), visible=False)\n",
    "ax = fig.axes[1]\n",
    "\n",
    "#fig, ax = plt.subplots(1, figsize=(6.25,5))\n",
    "Zs = np.array([-2.0, -1.5, -1.0, -0.5, 0.0, 0.2])\n",
    "sM = getColors(np.linspace(-2.0, 0.2), maxv=1.0, minv=0.4, cname='Blues')\n",
    "sMc = getColors(np.linspace(-2.0, 0.2), maxv=1.0, minv=0.4, cname='Greens')\n",
    "savz = []\n",
    "savz.append(ages)\n",
    "for z in Zs:\n",
    "    if z == Zs[3]:\n",
    "        lab = r'Burst'\n",
    "    else:\n",
    "        lab = '__nolegend__'\n",
    "    lab = r'{0:.1f}'.format(z)\n",
    "    fsp.params['logzsol'] = z\n",
    "    wav, specs = fsp.get_spectrum(peraa=True)\n",
    "    wavs = [505., 912.]\n",
    "    slopes = [calc_slope(s, wavs[0], wavs[1]) for s in specs]\n",
    "    ax.plot(ages, slopes, color=sM.to_rgba(z), lw=2, label=lab)\n",
    "    #if z == Zs[3]:\n",
    "    #    lab = r'CSFR'\n",
    "    #else:\n",
    "    lab = '__nolegend__'\n",
    "    csp.params['logzsol'] = z\n",
    "    wav, specs = csp.get_spectrum(peraa=True)\n",
    "    mnorm = np.array([simps(csp.sfr[0:i+1], x=10.**csp.ssp_ages[0:i+1]) for i in range(len(csp.ssp_ages))])\n",
    "    wavs = [505., 912.]\n",
    "    slopes = [calc_slope(s/m, wavs[0], wavs[1]) for s,m in zip(specs, mnorm)]\n",
    "    ax.plot(ages, slopes, color=sMc.to_rgba(z), lw=2, label=lab)\n",
    "\n",
    "ax.set_xlim(5.9, 7.1)\n",
    "ax.set_ylim(-1.2, 11)\n",
    "#ax.legend(loc=0, fontsize=16, frameon=False)\n",
    "leg = ax.legend(loc=0, frameon=False, fontsize=16, title=r'log Z/Z$_{\\odot}$')\n",
    "plt.setp(leg.get_title(), fontsize=16)\n",
    "\n",
    "ax.set_ylabel(r'EUV slope [I$_{\\mathrm{He}}$, I$_{\\mathrm{H}}$]', size=16)\n",
    "ax.set_xlabel(r'log Age [ years ]', size=16)\n",
    "fig.subplots_adjust(left=0.12, bottom=0.08, top=0.92, right=0.98, hspace=0)\n",
    "fig.savefig('./f4.pdf', dpi=300)"
   ]
  },
  {
   "cell_type": "code",
   "execution_count": null,
   "metadata": {
    "collapsed": true
   },
   "outputs": [],
   "source": []
  }
 ],
 "metadata": {
  "kernelspec": {
   "display_name": "Python [default]",
   "language": "python",
   "name": "python2"
  },
  "language_info": {
   "codemirror_mode": {
    "name": "ipython",
    "version": 2
   },
   "file_extension": ".py",
   "mimetype": "text/x-python",
   "name": "python",
   "nbconvert_exporter": "python",
   "pygments_lexer": "ipython2",
   "version": "2.7.13"
  }
 },
 "nbformat": 4,
 "nbformat_minor": 2
}
